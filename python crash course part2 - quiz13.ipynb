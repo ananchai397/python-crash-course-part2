{
 "cells": [
  {
   "cell_type": "code",
   "execution_count": null,
   "metadata": {},
   "outputs": [],
   "source": [
    "#13. เขียนโปรแกรมรับ input สองตัวเป็นจำนวนเต็มระหว่าง 0-60 โดยตัวแรกเป็นชั่วโมงและตัวที่สองเป็นนาที \n",
    "#คำนวณค่าที่จอดรถถ้าชั่วโมงละ 150 บาท เศษนาทีคิดเป็นนาทีละ 2 บาท\n",
    "\n",
    "A=int(input('input hour (interger 0-60): '))\n",
    "B=int(input('input minute (interger 0-60): '))\n",
    "\n",
    "while (A < 0) or (A > 60) or (B<0) or (B>60):\n",
    "    print('input interger between 0-60 only')\n",
    "    A=int(input('input hour (interger 0-60): '))\n",
    "    B=int(input('input minute (interger 0-60): '))\n",
    "\n",
    "ans = (A*150)+(B*2)\n",
    "print('parking fee: ', ans)"
   ]
  },
  {
   "cell_type": "code",
   "execution_count": null,
   "metadata": {},
   "outputs": [],
   "source": []
  }
 ],
 "metadata": {
  "kernelspec": {
   "display_name": "Python 3",
   "language": "python",
   "name": "python3"
  },
  "language_info": {
   "codemirror_mode": {
    "name": "ipython",
    "version": 3
   },
   "file_extension": ".py",
   "mimetype": "text/x-python",
   "name": "python",
   "nbconvert_exporter": "python",
   "pygments_lexer": "ipython3",
   "version": "3.7.6"
  }
 },
 "nbformat": 4,
 "nbformat_minor": 4
}
