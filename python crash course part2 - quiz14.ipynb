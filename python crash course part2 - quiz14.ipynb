{
 "cells": [
  {
   "cell_type": "code",
   "execution_count": 12,
   "metadata": {},
   "outputs": [
    {
     "name": "stdout",
     "output_type": "stream",
     "text": [
      "input hour (interger 0-60): 1\n",
      "input minute (interger 0-60): 10\n",
      "parking fee:  450\n"
     ]
    }
   ],
   "source": [
    "#14. เขียนโปรแกรมรับ input สองตัวเป็นจำนวนเต็มระหว่าง 0-60 โดยตัวแรกเป็นชั่วโมงและตัวที่สองเป็นนาที \n",
    "#คำนวณค่าที่จอดรถถ้าชั่วโมงละ 300 บาท เศษนาทีเกิน 15 นาทีคิดเป็นหนึ่งชั่วโมง หากไม่เกินไม่คิดเงิน และชั่วโมงแรกจอดฟรี\n",
    "\n",
    "A=int(input('input hour (interger 0-60): '))\n",
    "B=int(input('input minute (interger 0-60): '))\n",
    "\n",
    "while (A < 0) or (A > 60) or (B<0) or (B>60):\n",
    "    print('input interger between 0-60 only')\n",
    "    A=int(input('input hour (interger 0-60): '))\n",
    "    B=int(input('input minute (interger 0-60): '))\n",
    "\n",
    "\n",
    "\n",
    "if B>15:  #เศษเกิน15นาทีคิดเป็น 1 ชั่วโมง\n",
    "    A+=1\n",
    "    B-=B\n",
    "\n",
    "if A==0 and B<15: #ไม่เกิน15นาทีไม่คิดเงิน\n",
    "    B=0\n",
    "    \n",
    "\n",
    "ans = (A*300)+(B*15)\n",
    "print('parking fee: ', ans)"
   ]
  },
  {
   "cell_type": "code",
   "execution_count": null,
   "metadata": {},
   "outputs": [],
   "source": []
  },
  {
   "cell_type": "code",
   "execution_count": null,
   "metadata": {},
   "outputs": [],
   "source": []
  }
 ],
 "metadata": {
  "kernelspec": {
   "display_name": "Python 3",
   "language": "python",
   "name": "python3"
  },
  "language_info": {
   "codemirror_mode": {
    "name": "ipython",
    "version": 3
   },
   "file_extension": ".py",
   "mimetype": "text/x-python",
   "name": "python",
   "nbconvert_exporter": "python",
   "pygments_lexer": "ipython3",
   "version": "3.7.6"
  }
 },
 "nbformat": 4,
 "nbformat_minor": 4
}
