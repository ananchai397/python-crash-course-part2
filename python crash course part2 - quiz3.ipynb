{
 "cells": [
  {
   "cell_type": "code",
   "execution_count": 28,
   "metadata": {},
   "outputs": [
    {
     "name": "stdout",
     "output_type": "stream",
     "text": [
      "1.2\n",
      "3.4\n",
      "5.6\n",
      "2.5\n",
      "0\n",
      "3.175\n"
     ]
    }
   ],
   "source": [
    "#3. เขียนโปรแกรม infinity while loop โดยรับค่า input มาเรื่อยๆ จนกว่าผู้ใช้จะใส่เลข 0 และนำเลขทั้งหมดมาหาค่าเฉลี่ย\n",
    "count = float(0)\n",
    "Asum=float(0)\n",
    "A = float(input())\n",
    "while (A !=0):\n",
    "    count +=1\n",
    "    Asum =Asum +A\n",
    "    A = float(input())\n",
    "\n",
    "ans = Asum/count\n",
    "print(float(ans))"
   ]
  },
  {
   "cell_type": "code",
   "execution_count": null,
   "metadata": {},
   "outputs": [],
   "source": []
  }
 ],
 "metadata": {
  "kernelspec": {
   "display_name": "Python 2",
   "language": "python",
   "name": "python2"
  },
  "language_info": {
   "codemirror_mode": {
    "name": "ipython",
    "version": 2
   },
   "file_extension": ".py",
   "mimetype": "text/x-python",
   "name": "python",
   "nbconvert_exporter": "python",
   "pygments_lexer": "ipython2",
   "version": "2.7.16"
  }
 },
 "nbformat": 4,
 "nbformat_minor": 2
}
