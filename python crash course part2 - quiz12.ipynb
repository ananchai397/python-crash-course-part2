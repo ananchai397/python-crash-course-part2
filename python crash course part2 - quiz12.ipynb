{
 "cells": [
  {
   "cell_type": "code",
   "execution_count": 2,
   "metadata": {},
   "outputs": [
    {
     "name": "stdout",
     "output_type": "stream",
     "text": [
      "input string 1st: m\n",
      "input string 2nd: mmm\n",
      "input string 3th: mm\n",
      "input string 4th: mmmm\n",
      "maximun input[amount , input]:  [4, 'mmmm']\n",
      "minimun input[amount , input]:  [1, 'm']\n",
      "string ascending[amount , input]:  [[1, 'm'], [2, 'mm'], [3, 'mmm'], [4, 'mmmm']]\n"
     ]
    }
   ],
   "source": [
    "#12. เขียนโปรแกรมรับ input 4 ตัวที่เป็น string จากนั้นตรวจสอบว่า input ใดมีความยาวมากที่สุด รองลงมา และน้อยที่สุด \n",
    "#จากนั้น ปริ้นแต่ละ input ออกมาตามลำดับน้อยสุดไปมากสุด\n",
    "\n",
    "A=input('input string 1st: ')\n",
    "B=input('input string 2nd: ')\n",
    "C=input('input string 3th: ')\n",
    "D=input('input string 4th: ')\n",
    "\n",
    "R1= [[len(A),A],[len(B), B],[len(C), C],[len(D),D]]\n",
    "\n",
    "R1.sort(key=None, reverse=False)\n",
    "\n",
    "print('maximun input[amount , input]: ', max(R1))\n",
    "print('minimun input[amount , input]: ',min(R1))\n",
    "\n",
    "print('string ascending[amount , input]: ', R1)"
   ]
  },
  {
   "cell_type": "code",
   "execution_count": null,
   "metadata": {},
   "outputs": [],
   "source": []
  }
 ],
 "metadata": {
  "kernelspec": {
   "display_name": "Python 3",
   "language": "python",
   "name": "python3"
  },
  "language_info": {
   "codemirror_mode": {
    "name": "ipython",
    "version": 3
   },
   "file_extension": ".py",
   "mimetype": "text/x-python",
   "name": "python",
   "nbconvert_exporter": "python",
   "pygments_lexer": "ipython3",
   "version": "3.7.6"
  }
 },
 "nbformat": 4,
 "nbformat_minor": 4
}
