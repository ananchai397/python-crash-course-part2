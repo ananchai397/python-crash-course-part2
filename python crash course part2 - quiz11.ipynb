{
 "cells": [
  {
   "cell_type": "code",
   "execution_count": 4,
   "metadata": {},
   "outputs": [
    {
     "name": "stdout",
     "output_type": "stream",
     "text": [
      "input string more than 7 alphabets \n",
      "input string: aa\n",
      "input string more than 7 alphabets \n",
      "input string: aa\n",
      "input string more than 7 alphabets \n",
      "input string: aaaaaaannnnNNN\n",
      "AAAAAAANNNNnnn\n"
     ]
    }
   ],
   "source": [
    "#11. จงเขียนโปรแกรมรับ input ที่เป็นประโยคแบบ string ที่มีความยาวของคำไม่ต่ำกว่า 7 ตัวอักษรภาษาอังกฤษ(สมมติว่าเป็นคำเดียว) \n",
    "#และมีพิมพ์ใหญ่พิมพ์เล็กปนกัน จากนั้นให้ตรวจสอบแต่ละอักษร ให้แปลงพิมพ์ใหญ่เป็นพิมพ์เล็ก และพิมพ์เล็กเป็นพิมพ์ใหญ่พร้อมกับปริ้นออกมา\n",
    "\n",
    "print('input string more than 7 alphabets ')\n",
    "A = input('input string: ')\n",
    "\n",
    "while (len(A) < 7):\n",
    "    print('input string more than 7 alphabets ')\n",
    "    A = input('input string: ')\n",
    "\n",
    "x= A.swapcase()\n",
    "print(x) \n"
   ]
  },
  {
   "cell_type": "code",
   "execution_count": null,
   "metadata": {},
   "outputs": [],
   "source": []
  }
 ],
 "metadata": {
  "kernelspec": {
   "display_name": "Python 3",
   "language": "python",
   "name": "python3"
  },
  "language_info": {
   "codemirror_mode": {
    "name": "ipython",
    "version": 3
   },
   "file_extension": ".py",
   "mimetype": "text/x-python",
   "name": "python",
   "nbconvert_exporter": "python",
   "pygments_lexer": "ipython3",
   "version": "3.7.6"
  }
 },
 "nbformat": 4,
 "nbformat_minor": 4
}
