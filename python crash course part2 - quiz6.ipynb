{
 "cells": [
  {
   "cell_type": "code",
   "execution_count": 5,
   "metadata": {},
   "outputs": [
    {
     "name": "stdout",
     "output_type": "stream",
     "text": [
      "1st number: -1\n",
      "2nd number: -2\n",
      "3th number: -3\n",
      "ได้สามเหลี่ยมมุมป้าน\n"
     ]
    }
   ],
   "source": [
    "#6. เขียนโปรแกรมรับค่า int มา 3 จำนวน และตรวจสอบว่าเมื่อนำ 3 เลขนั้นมาสร้าง 3 เหลี่ยม จะได้สามเหลี่ยมแบบใด\n",
    "#- สามเหลี่ยมมุมแหลม\n",
    "#- สามเหลี่ยมมุมป้าน\n",
    "#- สามเหลี่ยมมุมฉาก\n",
    "\n",
    "A = int(input(\"1st number: \"))\n",
    "B = int(input(\"2nd number: \"))\n",
    "C = int(input(\"3th number: \"))\n",
    "\n",
    "if A**2 == ((B**2)+(C**2)) or B**2 == ((A**2)+(C**2)) or C**2 == ((A**2)+(B**2)) :\n",
    "    print(\"ได้สามเหลี่ยมมุมฉาก\")\n",
    "elif A**2 >= ((B**2)+(C**2)) or B**2 >= ((A**2)+(C**2)) or C**2 >= ((A**2)+(B**2)) :\n",
    "    print(\"ได้สามเหลี่ยมมุมป้าน\")\n",
    "else:\n",
    "    print (\"ได้สามเหลี่ยมมุมแหลม\")"
   ]
  },
  {
   "cell_type": "code",
   "execution_count": null,
   "metadata": {},
   "outputs": [],
   "source": []
  },
  {
   "cell_type": "code",
   "execution_count": null,
   "metadata": {},
   "outputs": [],
   "source": []
  }
 ],
 "metadata": {
  "kernelspec": {
   "display_name": "Python 2",
   "language": "python",
   "name": "python2"
  },
  "language_info": {
   "codemirror_mode": {
    "name": "ipython",
    "version": 2
   },
   "file_extension": ".py",
   "mimetype": "text/x-python",
   "name": "python",
   "nbconvert_exporter": "python",
   "pygments_lexer": "ipython2",
   "version": "2.7.16"
  }
 },
 "nbformat": 4,
 "nbformat_minor": 2
}
