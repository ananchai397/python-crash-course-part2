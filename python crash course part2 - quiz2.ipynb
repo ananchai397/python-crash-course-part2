{
 "cells": [
  {
   "cell_type": "code",
   "execution_count": null,
   "metadata": {},
   "outputs": [],
   "source": [
    "#2. เขียนโปรแกรมรับค่า input 2 ตัว ในรูปแบบ float โดยให้ตัวแรกเป็นตัวตั้ง ตัวที่สองเป็นตัวหาร\n",
    "#หาผลลัพธ์ของการหาร\n",
    "#ใส่เลขทศนิยมได้\n",
    "#ถ้าตัวหารเป็น 0 ให้รับค่าใหม่จนกว่าจะเป็นเลขที่หารได้  \n",
    "\n",
    "A = float(input(\"please input float number 1st: \"))\n",
    "B = float(input(\"please input float number 2nd: \"))\n",
    "\n",
    "\n",
    "while (B==0):\n",
    "       B = float(input(\"please input float number 2nd: \"))\n",
    "\n",
    "ans = A/B\n",
    "print(float(ans))\n",
    "    "
   ]
  },
  {
   "cell_type": "code",
   "execution_count": null,
   "metadata": {},
   "outputs": [],
   "source": []
  }
 ],
 "metadata": {
  "kernelspec": {
   "display_name": "Python 3",
   "language": "python",
   "name": "python3"
  },
  "language_info": {
   "codemirror_mode": {
    "name": "ipython",
    "version": 3
   },
   "file_extension": ".py",
   "mimetype": "text/x-python",
   "name": "python",
   "nbconvert_exporter": "python",
   "pygments_lexer": "ipython3",
   "version": "3.7.6"
  }
 },
 "nbformat": 4,
 "nbformat_minor": 2
}
