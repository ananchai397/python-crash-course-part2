{
 "cells": [
  {
   "cell_type": "code",
   "execution_count": 5,
   "metadata": {},
   "outputs": [
    {
     "name": "stdout",
     "output_type": "stream",
     "text": [
      "input amount of head animal: 2\n",
      "input amount of leg animal: 6\n",
      "370.0\n"
     ]
    }
   ],
   "source": [
    "#15. โรงละครสัตว์มีนก กับ วัว และต้องจ่ายภาษีสัตว์ 2 ขา 150 บาทต่อตัว   จ่ายภาษีสัตว์ 4 ขา 220 บาทต่อตัว \n",
    "#เขียนโปรแกรมรับค่า input สองตัว ตัวแรกเป็นผลรวมจำนวนหัวของสัตว์ ตัวสองเป็นผลรวมจำนวนขาของสัตว์ จงหาว่าโรงละครสัตว์ต้องจ่ายภาษีเท่าใด\n",
    "\n",
    "A=int(input('input amount of head animal: '))\n",
    "B=int(input('input amount of leg animal: '))\n",
    "\n",
    "while (A or B) < 0:\n",
    "    A=int(input('input amount of head animal: '))\n",
    "    B=int(input('input amount of leg animal: '))\n",
    "    \n",
    "X=((4*A)-B)/2  #X=จำนวนของนก\n",
    "\n",
    "\n",
    "fee = (X*150)+((A-X)*220)  #A-X = จำนวนของวัว\n",
    "print(fee)\n"
   ]
  },
  {
   "cell_type": "code",
   "execution_count": null,
   "metadata": {},
   "outputs": [],
   "source": []
  }
 ],
 "metadata": {
  "kernelspec": {
   "display_name": "Python 3",
   "language": "python",
   "name": "python3"
  },
  "language_info": {
   "codemirror_mode": {
    "name": "ipython",
    "version": 3
   },
   "file_extension": ".py",
   "mimetype": "text/x-python",
   "name": "python",
   "nbconvert_exporter": "python",
   "pygments_lexer": "ipython3",
   "version": "3.7.6"
  }
 },
 "nbformat": 4,
 "nbformat_minor": 4
}
