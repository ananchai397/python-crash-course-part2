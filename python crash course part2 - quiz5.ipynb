{
 "cells": [
  {
   "cell_type": "code",
   "execution_count": 8,
   "metadata": {},
   "outputs": [
    {
     "name": "stdout",
     "output_type": "stream",
     "text": [
      "1st number: 3\n",
      "2nd number: 4\n",
      "3th number: 5\n",
      "สร้าง 3 เหลี่ยมมุมฉากได้\n"
     ]
    }
   ],
   "source": [
    "#5. เขียนโปรแกรมรับค่า int มา 3 จำนวน และตรวจสอบว่า 3 เลขนั้นสามารถนำมาสร้าง 3 เหลี่ยมมุมฉากได้หรือไม่\n",
    "\n",
    "A = int(input(\"1st number: \"))\n",
    "B = int(input(\"2nd number: \"))\n",
    "C = int(input(\"3th number: \"))\n",
    "\n",
    "if A**2 == ((B**2)+(C**2)):\n",
    "    print(\"สร้าง 3 เหลี่ยมมุมฉากได้\")\n",
    "elif B**2 == ((A**2)+(C**2)):\n",
    "    print(\"สร้าง 3 เหลี่ยมมุมฉากได้\")\n",
    "elif C**2 == ((A**2)+(B**2)):\n",
    "    print(\"สร้าง 3 เหลี่ยมมุมฉากได้\")\n",
    "else:\n",
    "    print (\"สร้าง 3 เหลี่ยมมุมฉากไม่ได้\")"
   ]
  }
 ],
 "metadata": {
  "kernelspec": {
   "display_name": "Python 2",
   "language": "python",
   "name": "python2"
  },
  "language_info": {
   "codemirror_mode": {
    "name": "ipython",
    "version": 2
   },
   "file_extension": ".py",
   "mimetype": "text/x-python",
   "name": "python",
   "nbconvert_exporter": "python",
   "pygments_lexer": "ipython2",
   "version": "2.7.16"
  }
 },
 "nbformat": 4,
 "nbformat_minor": 2
}
