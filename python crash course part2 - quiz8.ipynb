{
 "cells": [
  {
   "cell_type": "code",
   "execution_count": null,
   "metadata": {},
   "outputs": [
    {
     "name": "stdout",
     "output_type": "stream",
     "text": [
      "ค่าอาหารต้องไม่ต่ำกว่า 1,000 และ ไม่เกิน 5,000\n",
      "Food expenses 1st: 5000\n",
      "Food expenses 2nd: 5000\n",
      "Food expenses 3th: 5000\n",
      "Food expenses 4th: 200\n",
      "ค่าอาหารต้องไม่ต่ำกว่า 1,000 และ ไม่เกิน 5,000 \n"
     ]
    }
   ],
   "source": [
    "#8. เขียนโปรแกรมให้รับค่าอาหาร 4 ครั้งที่ไปทานอาหารนอกบ้านล่าสุด โดยแต่ละครั้งต้องไม่ต่ำกว่า 1,000 และไม่เกิน 5,000 (ผู้ใช้ต้องใส่อยู่ในช่วงนี้) \n",
    "#และนำค่าอาหาร 3 ครั้งแรกมาบวกกัน หากเกิน 6,000 บาท จะได้รับส่วนลด 15% หากเกิน 12,000 จะได้รับส่วนลด 25% ของมื้อที่ 4 \n",
    "#จงหายอดเงินสุดท้ายที่ต้องจ่ายของมื้อที่ 4\n",
    "\n",
    "print('ค่าอาหารต้องไม่ต่ำกว่า 1,000 และ ไม่เกิน 5,000')\n",
    "A = float(input('Food expenses 1st: '))\n",
    "B = float(input(\"Food expenses 2nd: \"))\n",
    "C = float(input(\"Food expenses 3th: \"))\n",
    "D = float(input(\"Food expenses 4th: \"))\n",
    "\n",
    "while (A < 1000 or A > 5000) or (B< 1000 or B > 5000) or (C< 1000 or C > 5000)or (D< 1000 or D > 5000):\n",
    "    print(\"ค่าอาหารต้องไม่ต่ำกว่า 1,000 และ ไม่เกิน 5,000 \")\n",
    "    A = float(input('Food expenses 1st: '))\n",
    "    B = float(input(\"Food expenses 2nd: \"))\n",
    "    C = float(input(\"Food expenses 3th: \"))\n",
    "    D = float(input(\"Food expenses 4th: \"))\n",
    "    \n",
    "sum1 = float(A+B+C)\n",
    "\n",
    "\n",
    "if (sum1 > 6000) and (sum1 <= 12000):\n",
    "    ans = D - (D*0.15)\n",
    "elif sum1 > 12000:\n",
    "    ans = D - (D*0.25)\n",
    "    \n",
    "print('ยอดเงินสุดท้ายที่ต้องจ่ายของมื้อที่ 4 =') \n",
    "print(float(ans)) "
   ]
  },
  {
   "cell_type": "code",
   "execution_count": null,
   "metadata": {},
   "outputs": [],
   "source": []
  },
  {
   "cell_type": "code",
   "execution_count": null,
   "metadata": {},
   "outputs": [],
   "source": []
  }
 ],
 "metadata": {
  "kernelspec": {
   "display_name": "Python 3",
   "language": "python",
   "name": "python3"
  },
  "language_info": {
   "codemirror_mode": {
    "name": "ipython",
    "version": 3
   },
   "file_extension": ".py",
   "mimetype": "text/x-python",
   "name": "python",
   "nbconvert_exporter": "python",
   "pygments_lexer": "ipython3",
   "version": "3.7.6"
  }
 },
 "nbformat": 4,
 "nbformat_minor": 2
}
