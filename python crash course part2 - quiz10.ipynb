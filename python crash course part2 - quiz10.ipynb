{
 "cells": [
  {
   "cell_type": "code",
   "execution_count": null,
   "metadata": {},
   "outputs": [],
   "source": [
    "#10. เขียนโปรแกรมให้รับค่าอาหาร 4 ครั้งที่ไปทานอาหารนอกบ้านล่าสุด โดยแต่ละครั้งต้องไม่ต่ำกว่า 1,000 และไม่เกิน 5,000 \n",
    "#(เขียนให้ผู้ใช้ใส่ใหม่หากไม่อยู่ในช่วงที่กำหนด) และถามผู้ใช้มีบัตรเครดิตหรือไม่(True/False) นำค่าอาหาร 3 ครั้งแรกมาบวกกัน \n",
    "#หากเกิน 4,000 บาท จะได้รับส่วนลด 25% หากเกิน 9,000 จะได้รับส่วนลด 30% ของมื้อที่ 4 หากมีบัตรเครดิต ลดเพิ่มอีก 5%    \n",
    "#จงหายอดเงินสุดท้ายที่ต้องจ่ายของมื้อที่ 4\n",
    "\n",
    "print('ค่าอาหารต้องไม่ต่ำกว่า 1,000 และ ไม่เกิน 5,000')\n",
    "A = float(input('Food expenses 1st: '))\n",
    "B = float(input(\"Food expenses 2nd: \"))\n",
    "C = float(input(\"Food expenses 3th: \"))\n",
    "D = float(input(\"Food expenses 4th: \"))\n",
    "\n",
    "while (A < 1000 or A > 5000) or (B< 1000 or B > 5000) or (C< 1000 or C > 5000)or (D< 1000 or D > 5000):\n",
    "    print(\"ค่าอาหารต้องไม่ต่ำกว่า 1,000 และ ไม่เกิน 5,000 \")\n",
    "    A = float(input('Food expenses 1st: '))\n",
    "    B = float(input(\"Food expenses 2nd: \"))\n",
    "    C = float(input(\"Food expenses 3th: \"))\n",
    "    D = float(input(\"Food expenses 4th: \"))\n",
    "sum1 = float(A+B+C)\n",
    "\n",
    "\n",
    "if (sum1 > 4000) and (sum1 <= 9000) :\n",
    "    ans = D - (D*0.25)\n",
    "elif sum1 > 9000:\n",
    "    ans = D - (D*0.30)\n",
    "    \n",
    "credit = bool(input('Do you have credit card? Please input 1 or 0, 1=Ture or 0=False: '))\n",
    "if credit == bool(1) :\n",
    "    ans = ans - (ans*0.05)\n",
    "\n",
    "\n",
    "    \n",
    "print('ยอดเงินสุดท้ายที่ต้องจ่ายของมื้อที่ 4')\n",
    "print(float(ans)) "
   ]
  },
  {
   "cell_type": "code",
   "execution_count": null,
   "metadata": {},
   "outputs": [],
   "source": []
  },
  {
   "cell_type": "code",
   "execution_count": null,
   "metadata": {},
   "outputs": [],
   "source": []
  }
 ],
 "metadata": {
  "kernelspec": {
   "display_name": "Python 3",
   "language": "python",
   "name": "python3"
  },
  "language_info": {
   "codemirror_mode": {
    "name": "ipython",
    "version": 2
   },
   "file_extension": ".py",
   "mimetype": "text/x-python",
   "name": "python",
   "nbconvert_exporter": "python",
   "pygments_lexer": "ipython2",
   "version": "2.7.16"
  }
 },
 "nbformat": 4,
 "nbformat_minor": 2
}
