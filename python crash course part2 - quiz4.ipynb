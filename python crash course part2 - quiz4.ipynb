{
 "cells": [
  {
   "cell_type": "code",
   "execution_count": 9,
   "metadata": {},
   "outputs": [
    {
     "name": "stdout",
     "output_type": "stream",
     "text": [
      "number =:20\n",
      "หาร 7 ไม่ลงตัว\n"
     ]
    }
   ],
   "source": [
    "#4. เขียนโปรมแกรมรับค่า input ที่เป็น integer มาหนึ่งตัว ตรวจสอบว่าเลขนั้นหาร 7 ลงตัวหรือไม่\n",
    "#ถ้าหารลงตัว ให้ปริ้น ‘หาร 7 ลงตัว’\n",
    "#- ถ้าหารไม่ลงตัว ให้ปริ้น ‘หาร 7 ไม่ลงตัว’\n",
    "A = int(input(\"number =:\"))\n",
    "if A%7 == 0:\n",
    "    print (\"หาร 7 ลงตัว\")\n",
    "else:\n",
    "    print (\"หาร 7 ไม่ลงตัว\")\n",
    "    "
   ]
  },
  {
   "cell_type": "code",
   "execution_count": null,
   "metadata": {},
   "outputs": [],
   "source": []
  }
 ],
 "metadata": {
  "kernelspec": {
   "display_name": "Python 2",
   "language": "python",
   "name": "python2"
  },
  "language_info": {
   "codemirror_mode": {
    "name": "ipython",
    "version": 2
   },
   "file_extension": ".py",
   "mimetype": "text/x-python",
   "name": "python",
   "nbconvert_exporter": "python",
   "pygments_lexer": "ipython2",
   "version": "2.7.16"
  }
 },
 "nbformat": 4,
 "nbformat_minor": 2
}
