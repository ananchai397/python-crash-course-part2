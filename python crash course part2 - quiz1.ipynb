{
 "cells": [
  {
   "cell_type": "code",
   "execution_count": 2,
   "metadata": {},
   "outputs": [
    {
     "name": "stdout",
     "output_type": "stream",
     "text": [
      "please input number: 0\n",
      "เลขศูนย์\n"
     ]
    }
   ],
   "source": [
    "#เขียนโปรแกรมรับ input จากผู้ใช้ 1 ตัว แปลงให้เป็น int และตรวจสอบว่าเป็นเลขคู่หรือเลขคี่ \n",
    "# หากเป็นเลขคู่ ให้พิมพ์ว่า เลขคู่\n",
    "# หากเป็นเลขคี่ ให้พิมพ์ว่า เลขคี่\n",
    "# หากเป็นเลขศูนย์ให้พิมพ์ว่า เลขศูนย์\n",
    "\n",
    "A = int(input(\"please input number: \"))\n",
    "if A/2 ==0 and A !=0:\n",
    "    print(\"เลขคู่\")\n",
    "elif A/2 != 0and A !=0:\n",
    "    print(\"เลขคี่\")\n",
    "else:\n",
    "    print(\"เลขศูนย์\")"
   ]
  },
  {
   "cell_type": "code",
   "execution_count": null,
   "metadata": {},
   "outputs": [],
   "source": []
  }
 ],
 "metadata": {
  "kernelspec": {
   "display_name": "Python 2",
   "language": "python",
   "name": "python2"
  },
  "language_info": {
   "codemirror_mode": {
    "name": "ipython",
    "version": 2
   },
   "file_extension": ".py",
   "mimetype": "text/x-python",
   "name": "python",
   "nbconvert_exporter": "python",
   "pygments_lexer": "ipython2",
   "version": "2.7.16"
  }
 },
 "nbformat": 4,
 "nbformat_minor": 2
}
